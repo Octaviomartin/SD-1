{
  "nbformat": 4,
  "nbformat_minor": 0,
  "metadata": {
    "anaconda-cloud": {},
    "hide_input": false,
    "kernelspec": {
      "display_name": "Python 3",
      "language": "python",
      "name": "python3"
    },
    "language_info": {
      "codemirror_mode": {
        "name": "ipython",
        "version": 3
      },
      "file_extension": ".py",
      "mimetype": "text/x-python",
      "name": "python",
      "nbconvert_exporter": "python",
      "pygments_lexer": "ipython3",
      "version": "3.6.9"
    },
    "colab": {
      "name": "lab2-structure.ipynb",
      "provenance": []
    }
  },
  "cells": [
    {
      "cell_type": "markdown",
      "metadata": {
        "id": "gYpk7Ibbrgry",
        "colab_type": "text"
      },
      "source": [
        "# SD212: Graph mining\n",
        "## Lab 2: Graph structure\n",
        "\n",
        "In this lab, you will learn to:\n",
        "* plot the degree distribution and observe the [power-law](https://en.wikipedia.org/wiki/Power_law#Power-law_probability_distributions),\n",
        "* estimate the [diameter](https://en.wikipedia.org/wiki/Distance_(graph_theory)) of a graph and observe the [small-world](https://en.wikipedia.org/wiki/Small-world_network) property,\n",
        "* estimate the [clustering coefficient](https://en.wikipedia.org/wiki/Clustering_coefficient) of a graph."
      ]
    },
    {
      "cell_type": "code",
      "metadata": {
        "id": "kANHQPfnriTI",
        "colab_type": "code",
        "colab": {
          "base_uri": "https://localhost:8080/",
          "height": 159
        },
        "outputId": "68aac7e3-f615-4501-dccb-8a0cc6b55416"
      },
      "source": [
        "!pip install scikit-network"
      ],
      "execution_count": 1,
      "outputs": [
        {
          "output_type": "stream",
          "text": [
            "Collecting scikit-network\n",
            "\u001b[?25l  Downloading https://files.pythonhosted.org/packages/7f/04/a6cf5f8a3e25e566d2114e2b7b4e5eb78a33260a30d25ab6b6c013f54d62/scikit_network-0.18.0-cp36-cp36m-manylinux2010_x86_64.whl (2.3MB)\n",
            "\u001b[K     |████████████████████████████████| 2.3MB 3.0MB/s \n",
            "\u001b[?25hRequirement already satisfied: numpy>=1.18.3 in /usr/local/lib/python3.6/dist-packages (from scikit-network) (1.18.5)\n",
            "Requirement already satisfied: scipy>=1.4.1 in /usr/local/lib/python3.6/dist-packages (from scikit-network) (1.4.1)\n",
            "Installing collected packages: scikit-network\n",
            "Successfully installed scikit-network-0.18.0\n"
          ],
          "name": "stdout"
        }
      ]
    },
    {
      "cell_type": "markdown",
      "metadata": {
        "id": "7rIaw1eHrgr1",
        "colab_type": "text"
      },
      "source": [
        "## Import"
      ]
    },
    {
      "cell_type": "code",
      "metadata": {
        "id": "lHG2Xi7Rrgr3",
        "colab_type": "code",
        "colab": {}
      },
      "source": [
        "import numpy as np\n",
        "from scipy import sparse\n",
        "from scipy.sparse.csgraph import shortest_path\n",
        "import matplotlib.pyplot as plt"
      ],
      "execution_count": 2,
      "outputs": []
    },
    {
      "cell_type": "code",
      "metadata": {
        "id": "9AzbAyHergsE",
        "colab_type": "code",
        "colab": {}
      },
      "source": [
        "%matplotlib inline"
      ],
      "execution_count": 3,
      "outputs": []
    },
    {
      "cell_type": "code",
      "metadata": {
        "id": "ysayurqUrgsM",
        "colab_type": "code",
        "colab": {}
      },
      "source": [
        "from sknetwork.data import load_netset, cyclic_graph, linear_graph\n",
        "from sknetwork.utils import bipartite2undirected"
      ],
      "execution_count": 6,
      "outputs": []
    },
    {
      "cell_type": "markdown",
      "metadata": {
        "id": "nuk7NzvnrgsT",
        "colab_type": "text"
      },
      "source": [
        "## Data"
      ]
    },
    {
      "cell_type": "markdown",
      "metadata": {
        "id": "A431sdsbrgsT",
        "colab_type": "text"
      },
      "source": [
        "We will work on the following graphs (see the [NetSets](https://graphs.telecom-paristech.fr/Home_page.html#netsets-section) collection for details):\n",
        "* Openflights (graph)\n",
        "* WikiVitals (digraph)\n",
        "* Cinema (bigraph)"
      ]
    },
    {
      "cell_type": "code",
      "metadata": {
        "id": "6y6pzfrIrgsV",
        "colab_type": "code",
        "colab": {}
      },
      "source": [
        "openflights = load_netset('openflights')"
      ],
      "execution_count": 7,
      "outputs": []
    },
    {
      "cell_type": "code",
      "metadata": {
        "id": "VHPwxG1Mrgsb",
        "colab_type": "code",
        "colab": {}
      },
      "source": [
        "# focus on degrees, not weights\n",
        "adjacency = (openflights.adjacency > 0)"
      ],
      "execution_count": 8,
      "outputs": []
    },
    {
      "cell_type": "code",
      "metadata": {
        "id": "ovtvBxDgrgsh",
        "colab_type": "code",
        "colab": {}
      },
      "source": [
        "wikivitals = load_netset('wikivitals')"
      ],
      "execution_count": 9,
      "outputs": []
    },
    {
      "cell_type": "code",
      "metadata": {
        "id": "jelreKhMrgsn",
        "colab_type": "code",
        "colab": {}
      },
      "source": [
        "cinema = load_netset('cinema')"
      ],
      "execution_count": 10,
      "outputs": []
    },
    {
      "cell_type": "markdown",
      "metadata": {
        "id": "zFTCZptErgsr",
        "colab_type": "text"
      },
      "source": [
        "## 1. Power law"
      ]
    },
    {
      "cell_type": "markdown",
      "metadata": {
        "id": "c2LZeI9Nrgss",
        "colab_type": "text"
      },
      "source": [
        "We first focus on the power law degree distribution.\n",
        "\n",
        "We consider the empirical distributions of:\n",
        "* degrees in the Openflights graph,\n",
        "* out-degrees and in-degrees in the WikiVitals graph."
      ]
    },
    {
      "cell_type": "markdown",
      "metadata": {
        "id": "BMMA0E2Nrgst",
        "colab_type": "text"
      },
      "source": [
        "## To do"
      ]
    },
    {
      "cell_type": "markdown",
      "metadata": {
        "id": "-2u9D4fErgsu",
        "colab_type": "text"
      },
      "source": [
        "For each of these distributions:\n",
        "* Compute the [coefficient of variation](https://en.wikipedia.org/wiki/Coefficient_of_variation) and compare it to that of a Poisson distribution with the same mean.\n",
        "* Plot the [tail distribution](https://en.wikipedia.org/wiki/Cumulative_distribution_function#Complementary_cumulative_distribution_function_(tail_distribution)) in log-log scale and compare it to that of an equivalent [Erdos-Rényi](https://en.wikipedia.org/wiki/Erdős–Rényi_model) graph (same number of nodes, same average degree).\n",
        "* Conclude: do you consider that this is a power law?\n",
        "\n",
        "**Hint:** Use the ``loglog`` function of ``pyplot``."
      ]
    },
    {
      "cell_type": "code",
      "metadata": {
        "id": "RgR9hA5Lrgsw",
        "colab_type": "code",
        "colab": {
          "base_uri": "https://localhost:8080/",
          "height": 69
        },
        "outputId": "b89e165b-00c3-4378-808d-981178648784"
      },
      "source": [
        "#degre de chaque noeuds\n",
        "n=adjacency.shape[0]\n",
        "degrees=np.zeros(n)\n",
        "for i in range(n):\n",
        "    degrees[i]=adjacency.indptr[i+1]-adjacency.indptr[i]   \n",
        "m=degrees.mean()\n",
        "sig=degrees.std()\n",
        "cv=sig/m\n",
        "print(\"cv =\",cv)\n",
        "print(\"moyenne =\",m)\n",
        "\n",
        "cv_poiss=np.sqrt(m)\n",
        "print(\"cv_poiss =\",cv_poiss)"
      ],
      "execution_count": 11,
      "outputs": [
        {
          "output_type": "stream",
          "text": [
            "cv = 2.1143999842457535\n",
            "moyenne = 11.748789150791088\n",
            "cv_poiss = 3.4276506751404945\n"
          ],
          "name": "stdout"
        }
      ]
    },
    {
      "cell_type": "code",
      "metadata": {
        "id": "tsqzlTUashMp",
        "colab_type": "code",
        "colab": {
          "base_uri": "https://localhost:8080/",
          "height": 69
        },
        "outputId": "d392fdac-0bc0-4929-8cdc-9cc786a95584"
      },
      "source": [
        "#d+\n",
        "adjacency2 = (wikivitals.adjacency > 0)\n",
        "wiki_degree = np.dot(adjacency2.toarray(),np.ones(len(wikivitals.names)))\n",
        "print(wiki_degree)\n",
        "wiki_mean = np.mean(wiki_degree)\n",
        "wiki_std = np.std(wiki_degree)\n",
        "print(wiki_std/wiki_mean)\n",
        "print(1/np.sqrt(wiki_mean))"
      ],
      "execution_count": 15,
      "outputs": [
        {
          "output_type": "stream",
          "text": [
            "[147. 143. 173. ...  22.  65.  63.]\n",
            "0.8065909718992998\n",
            "0.11242758479380567\n"
          ],
          "name": "stdout"
        }
      ]
    },
    {
      "cell_type": "code",
      "metadata": {
        "id": "X1HtjUtatHdU",
        "colab_type": "code",
        "colab": {
          "base_uri": "https://localhost:8080/",
          "height": 69
        },
        "outputId": "4cd6aadb-80b2-4046-dc5b-0f57fde73dcc"
      },
      "source": [
        "#d-\n",
        "adjacency3 = (wikivitals.adjacency > 0)\n",
        "wiki_degree = np.dot(adjacency3.toarray().T,np.ones(len(wikivitals.names)))\n",
        "print(wiki_degree)\n",
        "wiki_mean = np.mean(wiki_degree)\n",
        "wiki_std = np.std(wiki_degree)\n",
        "print(wiki_std/wiki_mean)\n",
        "print(1/np.sqrt(wiki_mean))"
      ],
      "execution_count": 16,
      "outputs": [
        {
          "output_type": "stream",
          "text": [
            "[ 36. 147. 190. ...  20.  68.  22.]\n",
            "1.3553811414388752\n",
            "0.11242758479380567\n"
          ],
          "name": "stdout"
        }
      ]
    },
    {
      "cell_type": "code",
      "metadata": {
        "id": "DeblBcDirgs1",
        "colab_type": "code",
        "colab": {},
        "outputId": "1e4164e8-1213-47a2-a6bd-18879ea077c2"
      },
      "source": [
        "plt.loglog(np.sort(degrees),1-np.arange(n)/n,lw=3)\n",
        "plt.title(\"Distribution of the degrees\")"
      ],
      "execution_count": null,
      "outputs": [
        {
          "output_type": "execute_result",
          "data": {
            "text/plain": [
              "Text(0.5, 1.0, 'Distribution of the degrees')"
            ]
          },
          "metadata": {
            "tags": []
          },
          "execution_count": 10
        },
        {
          "output_type": "display_data",
          "data": {
            "image/png": "[encoded data removed]",
            "text/plain": [
              "<Figure size 432x288 with 1 Axes>"
            ]
          },
          "metadata": {
            "tags": []
          }
        }
      ]
    },
    {
      "cell_type": "code",
      "metadata": {
        "id": "CB3BCXjFrgs6",
        "colab_type": "code",
        "colab": {},
        "outputId": "6b123f70-ad70-4bf0-9414-966b170b4bd2"
      },
      "source": [
        "adjacency.dot(np.ones(n))"
      ],
      "execution_count": null,
      "outputs": [
        {
          "output_type": "execute_result",
          "data": {
            "text/plain": [
              "array([4., 7., 8., ..., 1., 1., 1.])"
            ]
          },
          "metadata": {
            "tags": []
          },
          "execution_count": 11
        }
      ]
    },
    {
      "cell_type": "markdown",
      "metadata": {
        "id": "a__fdF16rgtB",
        "colab_type": "text"
      },
      "source": [
        "## 2. Small-world"
      ]
    },
    {
      "cell_type": "markdown",
      "metadata": {
        "id": "bITxLqhzrgtC",
        "colab_type": "text"
      },
      "source": [
        "You will now make a few experiments highlighting the small-world property."
      ]
    },
    {
      "cell_type": "markdown",
      "metadata": {
        "id": "nTrXEatqrgtD",
        "colab_type": "text"
      },
      "source": [
        "## To do\n",
        "\n",
        "* Complete the following function computing the distances from any given node in number of hops.\n",
        "* Compare it to the function `shortest_path` of SciPy on WikiVitals."
      ]
    },
    {
      "cell_type": "code",
      "metadata": {
        "id": "YTLo4O-OrgtE",
        "colab_type": "code",
        "colab": {},
        "outputId": "c327b3b8-c009-4b95-9169-1054a94d106b"
      },
      "source": [
        "\"\"\"\"def get_distances(adjacency: sparse.csr_matrix, source: int) -> np.ndarray:\n",
        "    '''Get distances from a source node in number of hops.\n",
        "    \n",
        "    Parameters\n",
        "    ----------\n",
        "    adjacency: \n",
        "        Adjacency matrix of the graph.\n",
        "    source:\n",
        "        Source node\n",
        "    \n",
        "    Returns\n",
        "    -------\n",
        "    distances:\n",
        "        Vector of distances.\n",
        "    '''\n",
        "    n = adjacency.shape[0]\n",
        "    distances = np.inf * np.ones(n)\n",
        "    distances[source] = 0\n",
        "    # vector of nodes reached after t steps\n",
        "    reached = np.zeros(n).astype(bool)\n",
        "    reached[source] = True\n",
        "    change = True\n",
        "    t = 0\n",
        "    while change:\n",
        "        t += 1\n",
        "        # to be modified\n",
        "        indexes=[]\n",
        "        for i in range(n):\n",
        "            if reached[i]==True:\n",
        "            #si le noeud i a déjà été atteint\n",
        "                deb=adjacency.indptr[i]\n",
        "                fin=adjacency.indptr[i+1]\n",
        "                for j in range(deb,fin):\n",
        "                #alors je regarde tous les noeuds qu'il va atteindre\n",
        "                    indexes.append(adjacency.indices[j])\n",
        "        indexes=np.array(indexes)\n",
        "        indexes=np.unique(indexes)\n",
        "        reached[indexes]=True                       \n",
        "        # end \n",
        "        new_nodes = np.argwhere((distances == np.inf) * reached).ravel()\n",
        "        distances[new_nodes] = t\n",
        "        change = len(new_nodes)\n",
        "    return distances\n",
        "\"\"\""
      ],
      "execution_count": null,
      "outputs": [
        {
          "output_type": "execute_result",
          "data": {
            "text/plain": [
              "'\"def get_distances(adjacency: sparse.csr_matrix, source: int) -> np.ndarray:\\n    \\'\\'\\'Get distances from a source node in number of hops.\\n    \\n    Parameters\\n    ----------\\n    adjacency: \\n        Adjacency matrix of the graph.\\n    source:\\n        Source node\\n    \\n    Returns\\n    -------\\n    distances:\\n        Vector of distances.\\n    \\'\\'\\'\\n    n = adjacency.shape[0]\\n    distances = np.inf * np.ones(n)\\n    distances[source] = 0\\n    # vector of nodes reached after t steps\\n    reached = np.zeros(n).astype(bool)\\n    reached[source] = True\\n    change = True\\n    t = 0\\n    while change:\\n        t += 1\\n        # to be modified\\n        indexes=[]\\n        for i in range(n):\\n            if reached[i]==True:\\n            #si le noeud i a déjà été atteint\\n                deb=adjacency.indptr[i]\\n                fin=adjacency.indptr[i+1]\\n                for j in range(deb,fin):\\n                #alors je regarde tous les noeuds qu\\'il va atteindre\\n                    indexes.append(adjacency.indices[j])\\n        indexes=np.array(indexes)\\n        indexes=np.unique(indexes)\\n        reached[indexes]=True                       \\n        # end \\n        new_nodes = np.argwhere((distances == np.inf) * reached).ravel()\\n        distances[new_nodes] = t\\n        change = len(new_nodes)\\n    return distances\\n'"
            ]
          },
          "metadata": {
            "tags": []
          },
          "execution_count": 12
        }
      ]
    },
    {
      "cell_type": "code",
      "metadata": {
        "id": "oX4-ajVBrgtL",
        "colab_type": "code",
        "colab": {}
      },
      "source": [
        "def get_distances(adjacency: sparse.csr_matrix, source: int) -> np.ndarray:\n",
        "    '''Get distances from a source node in number of hops.\n",
        "    \n",
        "    Parameters\n",
        "    ----------\n",
        "    adjacency: \n",
        "        Adjacency matrix of the graph.\n",
        "    source:\n",
        "        Source node\n",
        "    \n",
        "    Returns\n",
        "    -------\n",
        "    distances:\n",
        "        Vector of distances.\n",
        "    '''\n",
        "    n = adjacency.shape[0]\n",
        "    distances = np.inf * np.ones(n)\n",
        "    distances[source] = 0\n",
        "    # vector of nodes reached after t steps\n",
        "    reached = np.zeros(n).astype(bool)\n",
        "    reached[source] = True\n",
        "    change = True\n",
        "    t = 0\n",
        "    while change:\n",
        "        t += 1\n",
        "        # to be modified\n",
        "        reached=adjacency.T.dot(reached)                      \n",
        "        # end \n",
        "        new_nodes = np.argwhere((distances == np.inf) * reached).ravel()\n",
        "        distances[new_nodes] = t\n",
        "        change = len(new_nodes)\n",
        "    return distances"
      ],
      "execution_count": null,
      "outputs": []
    },
    {
      "cell_type": "code",
      "metadata": {
        "id": "DJR92brHrgtP",
        "colab_type": "code",
        "colab": {}
      },
      "source": [
        "distances=get_distances(adjacency,0)"
      ],
      "execution_count": null,
      "outputs": []
    },
    {
      "cell_type": "code",
      "metadata": {
        "id": "CHzx-BbprgtU",
        "colab_type": "code",
        "colab": {}
      },
      "source": [
        "distances_scipy=shortest_path(adjacency)[0]"
      ],
      "execution_count": null,
      "outputs": []
    },
    {
      "cell_type": "code",
      "metadata": {
        "id": "kYuiv1J8rgtZ",
        "colab_type": "code",
        "colab": {},
        "outputId": "da7a1ac7-1152-4c53-eb3e-0308583f5be4"
      },
      "source": [
        "distances"
      ],
      "execution_count": null,
      "outputs": [
        {
          "output_type": "execute_result",
          "data": {
            "text/plain": [
              "array([0., 1., 1., ..., 5., 5., 5.])"
            ]
          },
          "metadata": {
            "tags": []
          },
          "execution_count": 16
        }
      ]
    },
    {
      "cell_type": "code",
      "metadata": {
        "id": "d7xofp1Srgtd",
        "colab_type": "code",
        "colab": {},
        "outputId": "d33d0213-5b65-4ea1-8acd-d7306a0cd98b"
      },
      "source": [
        "distances_scipy"
      ],
      "execution_count": null,
      "outputs": [
        {
          "output_type": "execute_result",
          "data": {
            "text/plain": [
              "array([0., 1., 1., ..., 5., 5., 5.])"
            ]
          },
          "metadata": {
            "tags": []
          },
          "execution_count": 284
        }
      ]
    },
    {
      "cell_type": "markdown",
      "metadata": {
        "id": "M_rtVr7orgtg",
        "colab_type": "text"
      },
      "source": [
        "* Which fraction of the airports can be reached from **Paris Charles de Gaulle** in 1, 2, 3 flights?"
      ]
    },
    {
      "cell_type": "code",
      "metadata": {
        "id": "B4b1cFZirgth",
        "colab_type": "code",
        "colab": {},
        "outputId": "4854bcd7-d466-47fd-e7b5-38febe7bd541"
      },
      "source": [
        "ind=np.where(openflights.names=='Charles de Gaulle International Airport')[0][0]\n",
        "print(ind)\n",
        "l=shortest_path(adjacency)\n",
        "l=l[ind]"
      ],
      "execution_count": null,
      "outputs": [
        {
          "output_type": "stream",
          "text": [
            "622\n"
          ],
          "name": "stdout"
        }
      ]
    },
    {
      "cell_type": "code",
      "metadata": {
        "id": "V5laVasSrgtm",
        "colab_type": "code",
        "colab": {},
        "outputId": "8cf54120-6a14-4a0b-90aa-fbfe1b0b9337"
      },
      "source": [
        "n=adjacency.shape[0]\n",
        "for i in range(1,4):\n",
        "    print(str(100*len(l[l<=i])/n)+\"% of the airports can be reached in \"+str(i)+\" flights\")"
      ],
      "execution_count": null,
      "outputs": [
        {
          "output_type": "stream",
          "text": [
            "7.5556990636099455% of the airports can be reached in 1 flights\n",
            "61.89861155957378% of the airports can be reached in 2 flights\n",
            "90.89441394898289% of the airports can be reached in 3 flights\n"
          ],
          "name": "stdout"
        }
      ]
    },
    {
      "cell_type": "markdown",
      "metadata": {
        "id": "AvmU1XcSrgtq",
        "colab_type": "text"
      },
      "source": [
        "* Which fraction of the articles can be reached from **Paris** in 1, 2, 3 clicks on Wikipedia Vitals?"
      ]
    },
    {
      "cell_type": "code",
      "metadata": {
        "id": "ccw3KeZ6rgtq",
        "colab_type": "code",
        "colab": {},
        "outputId": "3679862a-f4f7-4bbc-9c93-e389b5fc9ccb"
      },
      "source": [
        "wikivitals.names"
      ],
      "execution_count": null,
      "outputs": [
        {
          "output_type": "execute_result",
          "data": {
            "text/plain": [
              "array(['The arts', 'Art', 'Architecture', ..., 'Baby transport',\n",
              "       'Pipeline transport', 'Tractor'], dtype='<U62')"
            ]
          },
          "metadata": {
            "tags": []
          },
          "execution_count": 15
        }
      ]
    },
    {
      "cell_type": "code",
      "metadata": {
        "id": "5dfCtOy-rgtv",
        "colab_type": "code",
        "colab": {},
        "outputId": "5c72b8d7-86bb-4d94-de63-fa84f7b3cfe9"
      },
      "source": [
        "ind=np.where(wikivitals.names=='Paris')[0][0]\n",
        "ind"
      ],
      "execution_count": null,
      "outputs": [
        {
          "output_type": "execute_result",
          "data": {
            "text/plain": [
              "3279"
            ]
          },
          "metadata": {
            "tags": []
          },
          "execution_count": 16
        }
      ]
    },
    {
      "cell_type": "code",
      "metadata": {
        "id": "pr6IvuwUrgty",
        "colab_type": "code",
        "colab": {}
      },
      "source": [
        "adjacency_wiki=wikivitals.adjacency\n",
        "l=shortest_path(adjacency_wiki)\n",
        "l=l[ind]"
      ],
      "execution_count": null,
      "outputs": []
    },
    {
      "cell_type": "code",
      "metadata": {
        "id": "du8_w9oRrgt3",
        "colab_type": "code",
        "colab": {}
      },
      "source": [
        "adjacency_wiki=wikivitals.adjacency"
      ],
      "execution_count": null,
      "outputs": []
    },
    {
      "cell_type": "code",
      "metadata": {
        "id": "6QwWJ5AHrgt7",
        "colab_type": "code",
        "colab": {},
        "outputId": "ce070750-aaa0-4503-99ce-d905d556477b"
      },
      "source": [
        "n=adjacency_wiki.shape[0]\n",
        "for i in range(1,4):\n",
        "    print(str(100*len(l[l<=i])/n)+\"% of the articles can be reached in \"+str(i)+\" cliks\")"
      ],
      "execution_count": null,
      "outputs": [
        {
          "output_type": "stream",
          "text": [
            "3.555733120255693% of the articles can be reached in 1 cliks\n",
            "64.80223731522173% of the articles can be reached in 2 cliks\n",
            "99.31082700759089% of the articles can be reached in 3 cliks\n"
          ],
          "name": "stdout"
        }
      ]
    },
    {
      "cell_type": "markdown",
      "metadata": {
        "id": "JhoKYK1urgt-",
        "colab_type": "text"
      },
      "source": [
        "## To do\n",
        "\n",
        "* Which fraction of the airports can be reached from **Paris Charles de Gaulle** in 1, 2, 3 flights?\n",
        "* Which fraction of the articles can be reached from **Paris** in 1, 2, 3 clicks on Wikipedia Vitals?"
      ]
    },
    {
      "cell_type": "markdown",
      "metadata": {
        "id": "l2GwctV8rgt_",
        "colab_type": "text"
      },
      "source": [
        "## To do"
      ]
    },
    {
      "cell_type": "markdown",
      "metadata": {
        "id": "DSBXUKr9rguA",
        "colab_type": "text"
      },
      "source": [
        "The following function estimates the [diameter](https://en.wikipedia.org/wiki/Distance_(graph_theory)) of a graph.\n",
        "\n",
        "* Adapt this function so that it returns a path of length equal to this estimated diameter.\n",
        "* Give a path of **length at least 10** in Openflights (with the names of the airports).\n",
        "* Give a path of **length at least 5** in WikiVitals (with the names of the articles)."
      ]
    },
    {
      "cell_type": "code",
      "metadata": {
        "id": "ao__gNl8rguA",
        "colab_type": "code",
        "colab": {}
      },
      "source": [
        "def estimate_diameter(adjacency: sparse.csr_matrix, n_samples=100) -> int:\n",
        "    '''Estimate the diameter of a graph.\n",
        "    \n",
        "    Parameters\n",
        "    ----------\n",
        "    adjacency: \n",
        "        Adjacency matrix of the graph.\n",
        "    n_samples:\n",
        "        Number of samples.\n",
        "    \n",
        "    Returns\n",
        "    -------\n",
        "    diameter:\n",
        "        Estimation of the diameter. \n",
        "    '''    \n",
        "    n = adjacency.shape[0]\n",
        "    #je prends des noeuds au hasard\n",
        "    nodes = np.random.choice(n, size=n_samples)\n",
        "    #je regarde leur liste de distance\n",
        "    distances = shortest_path(adjacency.T, indices=nodes)\n",
        "    #je prends la distance max\n",
        "    sources = np.where(np.isinf(distances), -1, distances).argmax(axis=1)\n",
        "    #à partir de ces nouveux noeuds je regarde le max de leur tableau de distance\n",
        "    distances , preds = shortest_path(adjacency, indices=sources, return_predecessors=True)\n",
        "    #je peux estimer le diamètre avec cela\n",
        "    diameter = np.where(np.isinf(distances), -1, distances).max()\n",
        "    \n",
        "    #maintenant, je veux un chemin avec ce diamètre\n",
        "    #je prends le noeud correspondant au max dans distance\n",
        "    k = np.where(np.isinf(distances), -1, distances).max(axis=1).argmax()\n",
        "    #je prends une source bien choisie\n",
        "    source = sources[k]\n",
        "    pred = preds[k]\n",
        "    distance = distances[k]\n",
        "    #je prends la destination la plus loin de la source\n",
        "    dest = np.where(np.isinf(distance), -1, distance).argmax()\n",
        "    path = []\n",
        "    #je construit le chemin petit à petit\n",
        "    while dest != source:\n",
        "        path.append(dest)\n",
        "        dest = pred[dest]   \n",
        "    return int(diameter),path"
      ],
      "execution_count": null,
      "outputs": []
    },
    {
      "cell_type": "code",
      "metadata": {
        "id": "Fzj9BsN4rguD",
        "colab_type": "code",
        "colab": {}
      },
      "source": [
        "diameter , path = estimate_diameter(adjacency_wiki)"
      ],
      "execution_count": null,
      "outputs": []
    },
    {
      "cell_type": "markdown",
      "metadata": {
        "id": "igS9hWYqrguG",
        "colab_type": "text"
      },
      "source": [
        "* Give a path of **length at least 5** in WikiVitals (with the names of the articles)."
      ]
    },
    {
      "cell_type": "code",
      "metadata": {
        "id": "_hULTPPXrguH",
        "colab_type": "code",
        "colab": {},
        "outputId": "1380e008-eb4c-4c70-e9a5-cbba165baa09"
      },
      "source": [
        "wikivitals.names[path]"
      ],
      "execution_count": null,
      "outputs": [
        {
          "output_type": "execute_result",
          "data": {
            "text/plain": [
              "array(['Night (book)', 'Elie Wiesel',\n",
              "       'International Atomic Energy Agency', 'Poland', 'Jurassic',\n",
              "       'Perciformes'], dtype='<U62')"
            ]
          },
          "metadata": {
            "tags": []
          },
          "execution_count": 21
        }
      ]
    },
    {
      "cell_type": "code",
      "metadata": {
        "id": "a17H5TjarguK",
        "colab_type": "code",
        "colab": {}
      },
      "source": [
        "diameter , path = estimate_diameter(adjacency)"
      ],
      "execution_count": null,
      "outputs": []
    },
    {
      "cell_type": "markdown",
      "metadata": {
        "id": "B0XQiLzOrguN",
        "colab_type": "text"
      },
      "source": [
        "* Give a path of **length at least 10** in Openflights (with the names of the airports)."
      ]
    },
    {
      "cell_type": "code",
      "metadata": {
        "id": "4KIDTfrmrguO",
        "colab_type": "code",
        "colab": {},
        "outputId": "4b995c57-b91c-4a1b-ca18-0537952a7664"
      },
      "source": [
        "openflights.names[path]"
      ],
      "execution_count": null,
      "outputs": [
        {
          "output_type": "execute_result",
          "data": {
            "text/plain": [
              "array(['Thule Air Base', 'Qaanaaq Airport', 'Upernavik Airport',\n",
              "       'Ilulissat Airport', 'Godthaab / Nuuk Airport',\n",
              "       'Keflavik International Airport',\n",
              "       'Lester B. Pearson International Airport',\n",
              "       'Timmins/Victor M. Power', 'Moosonee Airport',\n",
              "       'Fort Albany Airport', 'Kashechewan Airport',\n",
              "       'Attawapiskat Airport'], dtype='<U65')"
            ]
          },
          "metadata": {
            "tags": []
          },
          "execution_count": 23
        }
      ]
    },
    {
      "cell_type": "markdown",
      "metadata": {
        "id": "6qcks2nrrguS",
        "colab_type": "text"
      },
      "source": [
        "## To do\n",
        "\n",
        "* Compute the [Bacon number](https://fr.wikipedia.org/wiki/Six_Degrees_of_Kevin_Bacon) of all actors.\n",
        "* Plot the corresponding histogram.\n",
        "\n",
        "**Hint:** Use distances in the bipartite graph. Do **not** try to compute the co-starring graph of actors, with adjacency matrix $A = B^TB$ where $B$ is the movie-actor biadjacency matrix (guess why)."
      ]
    },
    {
      "cell_type": "code",
      "metadata": {
        "id": "k1_UP2VyrguS",
        "colab_type": "code",
        "colab": {},
        "outputId": "bb32fb43-d4c6-4229-ce5b-2b646064715e"
      },
      "source": [
        "cinema"
      ],
      "execution_count": null,
      "outputs": [
        {
          "output_type": "execute_result",
          "data": {
            "text/plain": [
              "{'biadjacency': <88440x44586 sparse matrix of type '<class 'numpy.bool_'>'\n",
              " \twith 304006 stored elements in Compressed Sparse Row format>,\n",
              " 'names_col': array(['Joe E. Brown', 'Eric Blore', 'Susan Hayward', ...,\n",
              "        'Olivier Saladin', 'Reona Hirota', 'Leyla Sayar'], dtype='<U95'),\n",
              " 'names_row': array(['$1,000 a Touchdown', '$9.99', '$', ...,\n",
              "        'Šta se zgodi kad se ljubav rodi', 'Želary', '’O Re'], dtype='<U95')}"
            ]
          },
          "metadata": {
            "tags": []
          },
          "execution_count": 20
        }
      ]
    },
    {
      "cell_type": "code",
      "metadata": {
        "id": "ZkL8UQGprguX",
        "colab_type": "code",
        "colab": {},
        "outputId": "7e0e6942-cb0c-464c-e7bd-26295d1a020e"
      },
      "source": [
        "biadjacency=cinema.biadjacency\n",
        "# corresponding graph with a mix of movies and actors (movies first)\n",
        "adjacency = bipartite2undirected(biadjacency)\n",
        "n=len(cinema.names_col)\n",
        "m=len(cinema.names_row)\n",
        "ind2=np.where(cinema.names_col=='Marion Cotillard')[0][0]\n",
        "ind1=np.where(cinema.names_col=='Kevin Bacon')[0][0]\n",
        "distances=shortest_path(adjacency,indices=[m+ind1])\n",
        "print(\"La distance à Marion Cotillard est\",distances[0][m+ind2]/2)"
      ],
      "execution_count": null,
      "outputs": [
        {
          "output_type": "stream",
          "text": [
            "La distance à Marion Cotillard est 2.0\n"
          ],
          "name": "stdout"
        }
      ]
    },
    {
      "cell_type": "code",
      "metadata": {
        "id": "vHAHizCTrgua",
        "colab_type": "code",
        "colab": {}
      },
      "source": [
        "distances_actors=distances[0][m:]/2"
      ],
      "execution_count": null,
      "outputs": []
    },
    {
      "cell_type": "code",
      "metadata": {
        "id": "aXB8BAbwrguf",
        "colab_type": "code",
        "colab": {},
        "outputId": "1f38de9f-af73-44d8-effe-153fab3edf30"
      },
      "source": [
        "distances_actors"
      ],
      "execution_count": null,
      "outputs": [
        {
          "output_type": "execute_result",
          "data": {
            "text/plain": [
              "array([3., 3., 2., ..., 3., 3., 7.])"
            ]
          },
          "metadata": {
            "tags": []
          },
          "execution_count": 36
        }
      ]
    },
    {
      "cell_type": "code",
      "metadata": {
        "id": "-aQnGtyYrgui",
        "colab_type": "code",
        "colab": {},
        "outputId": "b78e3415-a5bd-4fc1-a3cd-45610bdcfaa4"
      },
      "source": [
        "plt.hist(distances_actors)\n",
        "plt.title(\"Bacon numbers\")"
      ],
      "execution_count": null,
      "outputs": [
        {
          "output_type": "execute_result",
          "data": {
            "text/plain": [
              "Text(0.5, 1.0, 'Bacon numbers')"
            ]
          },
          "metadata": {
            "tags": []
          },
          "execution_count": 39
        },
        {
          "output_type": "display_data",
          "data": {
            "image/png": "[encoded data removed]",
            "text/plain": [
              "<Figure size 432x288 with 1 Axes>"
            ]
          },
          "metadata": {
            "tags": []
          }
        }
      ]
    },
    {
      "cell_type": "markdown",
      "metadata": {
        "id": "Cv3gk-CBrgul",
        "colab_type": "text"
      },
      "source": [
        "## 3. Clustering coefficient"
      ]
    },
    {
      "cell_type": "markdown",
      "metadata": {
        "id": "DcnVIRvTrgum",
        "colab_type": "text"
      },
      "source": [
        "You will now learn to estimate the clustering coefficient of a graph."
      ]
    },
    {
      "cell_type": "markdown",
      "metadata": {
        "id": "QyNG_7j5rgum",
        "colab_type": "text"
      },
      "source": [
        "## To do\n",
        "\n",
        "\n",
        "* Complete the following function to estimate the clustering coefficient of a graph.\n",
        "* Test it on a triangle and  a line.\n",
        "* Compute the clustering coefficient of Openflights and WikiVitals (seen as an undirected graph).\n",
        "\n",
        "**Hint:** A triangle is... a cycle of length 3"
      ]
    },
    {
      "cell_type": "code",
      "metadata": {
        "id": "_I6QecAUrgun",
        "colab_type": "code",
        "colab": {}
      },
      "source": [
        "def clustering_coefficient(adjacency: sparse.csr_matrix, n_samples: int = 500) -> float:\n",
        "    '''Get the clustering coefficient of a graph.\n",
        "    \n",
        "    Parameters\n",
        "    ----------\n",
        "    adjacency: \n",
        "        Adjacency matrix of the graph.\n",
        "    \n",
        "    Returns\n",
        "    -------\n",
        "    clustering_coef:\n",
        "        Clustering coefficient.\n",
        "    '''\n",
        "    oui=0\n",
        "    non=0\n",
        "    \n",
        "    n = adjacency.shape[0]\n",
        "    if n_samples < n:\n",
        "        nodes = np.random.choice(n, size=n_samples, replace=False)\n",
        "    else:\n",
        "        nodes = np.arange(n)\n",
        "\n",
        "    # to be modified\n",
        "    distances = shortest_path(adjacency)\n",
        "    for n in nodes:\n",
        "        distance = distances[n]\n",
        "        voisins = np.argwhere(distance==1)\n",
        "        #print(voisins)\n",
        "        for voisin1 in voisins:\n",
        "            distance_voisin1 = distances[voisin1[0]]\n",
        "            for voisin2 in voisins:\n",
        "                if voisin2 != voisin1:\n",
        "                    if distance_voisin1[voisin2[0]]==1:\n",
        "                        oui+=1\n",
        "                    else:\n",
        "                        non+=1\n",
        "    # a single loop on preselected nodes allowed\n",
        "    clustering_coef = float(oui)/(oui+non)\n",
        "    \n",
        "    return clustering_coef"
      ],
      "execution_count": 17,
      "outputs": []
    },
    {
      "cell_type": "code",
      "metadata": {
        "id": "KdFX7rF5rguq",
        "colab_type": "code",
        "colab": {}
      },
      "source": [
        "triangle = cyclic_graph(3)"
      ],
      "execution_count": 18,
      "outputs": []
    },
    {
      "cell_type": "code",
      "metadata": {
        "id": "Ur2mxMnJrgus",
        "colab_type": "code",
        "colab": {}
      },
      "source": [
        "line = linear_graph(5)"
      ],
      "execution_count": 19,
      "outputs": []
    },
    {
      "cell_type": "code",
      "metadata": {
        "id": "HrpZVhBxrguu",
        "colab_type": "code",
        "colab": {
          "base_uri": "https://localhost:8080/",
          "height": 34
        },
        "outputId": "b19e4a80-abda-4f19-d8b5-8151a4d978ae"
      },
      "source": [
        "clustering_coefficient(triangle)"
      ],
      "execution_count": 21,
      "outputs": [
        {
          "output_type": "execute_result",
          "data": {
            "text/plain": [
              "1.0"
            ]
          },
          "metadata": {
            "tags": []
          },
          "execution_count": 21
        }
      ]
    },
    {
      "cell_type": "code",
      "metadata": {
        "id": "kZlwe_D5rgux",
        "colab_type": "code",
        "colab": {}
      },
      "source": [
        "from sknetwork.data import karate_club, load_netset\n",
        "from sknetwork.visualization import svg_graph"
      ],
      "execution_count": 22,
      "outputs": []
    },
    {
      "cell_type": "code",
      "metadata": {
        "id": "jalgeLb-rguz",
        "colab_type": "code",
        "colab": {}
      },
      "source": [
        "graph = karate_club(metadata=True)\n",
        "adjacency = graph.adjacency\n",
        "position = graph.position\n",
        "labels = graph.labels"
      ],
      "execution_count": 23,
      "outputs": []
    },
    {
      "cell_type": "code",
      "metadata": {
        "scrolled": false,
        "id": "JfsiyabXrgu1",
        "colab_type": "code",
        "colab": {
          "base_uri": "https://localhost:8080/",
          "height": 34
        },
        "outputId": "ae79f668-9fcb-4b3d-ab5a-0ed0fb84d39e"
      },
      "source": [
        "clustering_coefficient(adjacency)"
      ],
      "execution_count": 24,
      "outputs": [
        {
          "output_type": "execute_result",
          "data": {
            "text/plain": [
              "0.2556818181818182"
            ]
          },
          "metadata": {
            "tags": []
          },
          "execution_count": 24
        }
      ]
    },
    {
      "cell_type": "code",
      "metadata": {
        "id": "w4DHIQrFrgu5",
        "colab_type": "code",
        "colab": {},
        "outputId": "e5f4440a-0e61-4580-ebcd-ee42624cef84"
      },
      "source": [
        "clustering_coefficient(adjacency_wiki)"
      ],
      "execution_count": null,
      "outputs": [
        {
          "output_type": "execute_result",
          "data": {
            "text/plain": [
              "0.2249761747112695"
            ]
          },
          "metadata": {
            "tags": []
          },
          "execution_count": 45
        }
      ]
    },
    {
      "cell_type": "code",
      "metadata": {
        "id": "Jp0DrRwNrgu8",
        "colab_type": "code",
        "colab": {}
      },
      "source": [
        "adjacency = openflights.adjacency"
      ],
      "execution_count": null,
      "outputs": []
    },
    {
      "cell_type": "code",
      "metadata": {
        "id": "G9jzfRlergu_",
        "colab_type": "code",
        "colab": {},
        "outputId": "c8a98abd-1270-45e6-a950-0ed0aaa7a1ed"
      },
      "source": [
        "clustering_coefficient(adjacency)"
      ],
      "execution_count": null,
      "outputs": [
        {
          "output_type": "execute_result",
          "data": {
            "text/plain": [
              "0.17174678994537587"
            ]
          },
          "metadata": {
            "tags": []
          },
          "execution_count": 48
        }
      ]
    },
    {
      "cell_type": "code",
      "metadata": {
        "id": "Lur2b5B6rgvB",
        "colab_type": "code",
        "colab": {}
      },
      "source": [
        ""
      ],
      "execution_count": null,
      "outputs": []
    }
  ]
}